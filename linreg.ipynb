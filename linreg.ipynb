{
  "cells": [
    {
      "cell_type": "markdown",
      "metadata": {
        "id": "view-in-github",
        "colab_type": "text"
      },
      "source": [
        "<a href=\"https://colab.research.google.com/github/Bananyadas/ananya-demo/blob/main/linreg.ipynb\" target=\"_parent\"><img src=\"https://colab.research.google.com/assets/colab-badge.svg\" alt=\"Open In Colab\"/></a>"
      ]
    },
    {
      "cell_type": "code",
      "source": [
        "import pandas as pd\n",
        "import numpy as np\n",
        "\n",
        "train_data = pd.read_csv(\"/content/Train.csv\")\n",
        "test_data = pd.read_csv(\"/content/Test.csv\")\n",
        "\n",
        "def extract(value):\n",
        "    try:\n",
        "        return float(value.split()[0]) #use float and not int, int shows error, expects whole values. Also will show value error when string conversion takes place.\n",
        "    except:\n",
        "        return np.nan\n",
        "\n",
        "for c in ['Mileage', 'Engine', 'Power']:\n",
        "    train_data[c] = train_data[c].apply(extract)\n",
        "    test_data[c] = test_data[c].apply(extract)\n",
        "train_data = train_data.dropna()\n",
        "\n",
        "\n",
        "xf = ['Year', 'Kilometers_Driven', 'Mileage', 'Engine', 'Power', 'Seats']\n",
        "X_train = train_data[xf].values\n",
        "y_train = train_data['Price'].values\n",
        "X_test = test_data[xf].values\n",
        "y_test_actual = test_data['Price'].values  #for accuracy stuff\n",
        "\n",
        "\n",
        "\n",
        "# Normalization code , formula used: x-xmin/xmax-xmin-- to make it b/w 0 and 1???\n",
        "X_train_min = X_train.min(axis=0)\n",
        "X_train_max = X_train.max(axis=0)\n",
        "X_train = (X_train - X_train_min) / (X_train_max - X_train_min)\n",
        "X_test = (X_test - X_train_min) / (X_train_max - X_train_min)\n",
        "\n",
        "#seed helps in generating the same random values each time\n",
        "np.random.seed(0)\n",
        "weights = np.random.rand(X_train.shape[1]) #weights will assign the \"weightage\" of each x axis ka thing to our price ka prediction ka value. Phir yeh starting value thi, after which it just itertively makes it better.\n",
        "bias = 0.0\n",
        "learning_rate = 0.01\n",
        "num_iterations = 10000\n",
        "m = len(y_train)\n",
        "\n",
        "# Gradient Descent\n",
        "for i in range(num_iterations):\n",
        "    y_pred = np.dot(X_train, weights) + bias\n",
        "    error = y_pred-y_train\n",
        "\n",
        "    weights_gradient = (2/m)*np.dot(X_train.T, error)\n",
        "    bias_gradient = (2/m)*np.sum(error)\n",
        "\n",
        "    weights-=learning_rate*weights_gradient\n",
        "    bias-=learning_rate*bias_gradient\n",
        "\n",
        "y_test_pred = np.dot(X_test, weights) + bias\n",
        "\n",
        "if np.isnan(y_test_actual).any() or np.isnan(y_test_pred).any(): #w/o this it was showing nan as the value for mse,mae,r^2. Filter out all the nan values in pred and actual data.\n",
        "    y_test_actual = np.nan_to_num(y_test_actual, nan=np.nanmean(y_test_actual)) #i have chosen to put the mean value as the substitute of the nan values. Other substitute would be to eliminate the nan values in general but it would be less effective as we are shortening the data.\n",
        "    y_test_pred = np.nan_to_num(y_test_pred, nan=np.nanmean(y_test_pred))\n",
        "\n",
        "\n",
        "mae = np.mean(np.abs(y_test_actual-y_test_pred))\n",
        "mse = np.mean((y_test_actual-y_test_pred) ** 2)\n",
        "rmse = np.sqrt(mse)\n",
        "\n",
        "y_mean = np.mean(y_test_actual)\n",
        "total = np.sum((y_test_actual-y_mean)**2)\n",
        "residual = np.sum((y_test_actual-y_test_pred)**2)\n",
        "r2 = 1-(residual / total)\n",
        "\n",
        "print(\"Mean Absolute Error (MAE):\", mae)\n",
        "print(\"Mean Squared Error (MSE):\", mse)\n",
        "print(\"Root Mean Squared Error (RMSE):\", rmse)\n",
        "print(\"R-squared (R²):\", r2)\n",
        "\n",
        "\n"
      ],
      "metadata": {
        "id": "d7M3sI06T6xw",
        "outputId": "aa79e731-5b15-4169-deee-a8f627d203c4",
        "colab": {
          "base_uri": "https://localhost:8080/"
        }
      },
      "execution_count": 1,
      "outputs": [
        {
          "output_type": "stream",
          "name": "stdout",
          "text": [
            "Mean Absolute Error (MAE): 4.160073133178413\n",
            "Mean Squared Error (MSE): 50.43875429299073\n",
            "Root Mean Squared Error (RMSE): 7.102024661530733\n",
            "R-squared (R²): 0.593165916137562\n"
          ]
        }
      ]
    }
  ],
  "metadata": {
    "colab": {
      "provenance": [],
      "authorship_tag": "ABX9TyPsaRBpOgjGngeNgwiMs7gv",
      "include_colab_link": true
    },
    "kernelspec": {
      "display_name": "Python 3",
      "name": "python3"
    },
    "language_info": {
      "name": "python"
    }
  },
  "nbformat": 4,
  "nbformat_minor": 0
}